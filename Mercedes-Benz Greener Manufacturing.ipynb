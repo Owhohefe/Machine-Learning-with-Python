{
 "cells": [
  {
   "cell_type": "code",
   "execution_count": 1,
   "metadata": {},
   "outputs": [],
   "source": [
    "import numpy as np\n",
    "import pandas as pd"
   ]
  },
  {
   "cell_type": "code",
   "execution_count": 2,
   "metadata": {},
   "outputs": [],
   "source": [
    "df_train = pd.read_csv(\"C:/Users/oekpom/Desktop/Datasets/Machine Learning/Dataset for the project - mercedes/train.csv\")"
   ]
  },
  {
   "cell_type": "code",
   "execution_count": 3,
   "metadata": {},
   "outputs": [
    {
     "data": {
      "text/html": [
       "<div>\n",
       "<style scoped>\n",
       "    .dataframe tbody tr th:only-of-type {\n",
       "        vertical-align: middle;\n",
       "    }\n",
       "\n",
       "    .dataframe tbody tr th {\n",
       "        vertical-align: top;\n",
       "    }\n",
       "\n",
       "    .dataframe thead th {\n",
       "        text-align: right;\n",
       "    }\n",
       "</style>\n",
       "<table border=\"1\" class=\"dataframe\">\n",
       "  <thead>\n",
       "    <tr style=\"text-align: right;\">\n",
       "      <th></th>\n",
       "      <th>ID</th>\n",
       "      <th>y</th>\n",
       "      <th>X0</th>\n",
       "      <th>X1</th>\n",
       "      <th>X2</th>\n",
       "      <th>X3</th>\n",
       "      <th>X4</th>\n",
       "      <th>X5</th>\n",
       "      <th>X6</th>\n",
       "      <th>X8</th>\n",
       "      <th>...</th>\n",
       "      <th>X375</th>\n",
       "      <th>X376</th>\n",
       "      <th>X377</th>\n",
       "      <th>X378</th>\n",
       "      <th>X379</th>\n",
       "      <th>X380</th>\n",
       "      <th>X382</th>\n",
       "      <th>X383</th>\n",
       "      <th>X384</th>\n",
       "      <th>X385</th>\n",
       "    </tr>\n",
       "  </thead>\n",
       "  <tbody>\n",
       "    <tr>\n",
       "      <th>0</th>\n",
       "      <td>0</td>\n",
       "      <td>130.81</td>\n",
       "      <td>k</td>\n",
       "      <td>v</td>\n",
       "      <td>at</td>\n",
       "      <td>a</td>\n",
       "      <td>d</td>\n",
       "      <td>u</td>\n",
       "      <td>j</td>\n",
       "      <td>o</td>\n",
       "      <td>...</td>\n",
       "      <td>0</td>\n",
       "      <td>0</td>\n",
       "      <td>1</td>\n",
       "      <td>0</td>\n",
       "      <td>0</td>\n",
       "      <td>0</td>\n",
       "      <td>0</td>\n",
       "      <td>0</td>\n",
       "      <td>0</td>\n",
       "      <td>0</td>\n",
       "    </tr>\n",
       "    <tr>\n",
       "      <th>1</th>\n",
       "      <td>6</td>\n",
       "      <td>88.53</td>\n",
       "      <td>k</td>\n",
       "      <td>t</td>\n",
       "      <td>av</td>\n",
       "      <td>e</td>\n",
       "      <td>d</td>\n",
       "      <td>y</td>\n",
       "      <td>l</td>\n",
       "      <td>o</td>\n",
       "      <td>...</td>\n",
       "      <td>1</td>\n",
       "      <td>0</td>\n",
       "      <td>0</td>\n",
       "      <td>0</td>\n",
       "      <td>0</td>\n",
       "      <td>0</td>\n",
       "      <td>0</td>\n",
       "      <td>0</td>\n",
       "      <td>0</td>\n",
       "      <td>0</td>\n",
       "    </tr>\n",
       "    <tr>\n",
       "      <th>2</th>\n",
       "      <td>7</td>\n",
       "      <td>76.26</td>\n",
       "      <td>az</td>\n",
       "      <td>w</td>\n",
       "      <td>n</td>\n",
       "      <td>c</td>\n",
       "      <td>d</td>\n",
       "      <td>x</td>\n",
       "      <td>j</td>\n",
       "      <td>x</td>\n",
       "      <td>...</td>\n",
       "      <td>0</td>\n",
       "      <td>0</td>\n",
       "      <td>0</td>\n",
       "      <td>0</td>\n",
       "      <td>0</td>\n",
       "      <td>0</td>\n",
       "      <td>1</td>\n",
       "      <td>0</td>\n",
       "      <td>0</td>\n",
       "      <td>0</td>\n",
       "    </tr>\n",
       "    <tr>\n",
       "      <th>3</th>\n",
       "      <td>9</td>\n",
       "      <td>80.62</td>\n",
       "      <td>az</td>\n",
       "      <td>t</td>\n",
       "      <td>n</td>\n",
       "      <td>f</td>\n",
       "      <td>d</td>\n",
       "      <td>x</td>\n",
       "      <td>l</td>\n",
       "      <td>e</td>\n",
       "      <td>...</td>\n",
       "      <td>0</td>\n",
       "      <td>0</td>\n",
       "      <td>0</td>\n",
       "      <td>0</td>\n",
       "      <td>0</td>\n",
       "      <td>0</td>\n",
       "      <td>0</td>\n",
       "      <td>0</td>\n",
       "      <td>0</td>\n",
       "      <td>0</td>\n",
       "    </tr>\n",
       "    <tr>\n",
       "      <th>4</th>\n",
       "      <td>13</td>\n",
       "      <td>78.02</td>\n",
       "      <td>az</td>\n",
       "      <td>v</td>\n",
       "      <td>n</td>\n",
       "      <td>f</td>\n",
       "      <td>d</td>\n",
       "      <td>h</td>\n",
       "      <td>d</td>\n",
       "      <td>n</td>\n",
       "      <td>...</td>\n",
       "      <td>0</td>\n",
       "      <td>0</td>\n",
       "      <td>0</td>\n",
       "      <td>0</td>\n",
       "      <td>0</td>\n",
       "      <td>0</td>\n",
       "      <td>0</td>\n",
       "      <td>0</td>\n",
       "      <td>0</td>\n",
       "      <td>0</td>\n",
       "    </tr>\n",
       "  </tbody>\n",
       "</table>\n",
       "<p>5 rows × 378 columns</p>\n",
       "</div>"
      ],
      "text/plain": [
       "   ID       y  X0 X1  X2 X3 X4 X5 X6 X8  ...  X375  X376  X377  X378  X379  \\\n",
       "0   0  130.81   k  v  at  a  d  u  j  o  ...     0     0     1     0     0   \n",
       "1   6   88.53   k  t  av  e  d  y  l  o  ...     1     0     0     0     0   \n",
       "2   7   76.26  az  w   n  c  d  x  j  x  ...     0     0     0     0     0   \n",
       "3   9   80.62  az  t   n  f  d  x  l  e  ...     0     0     0     0     0   \n",
       "4  13   78.02  az  v   n  f  d  h  d  n  ...     0     0     0     0     0   \n",
       "\n",
       "   X380  X382  X383  X384  X385  \n",
       "0     0     0     0     0     0  \n",
       "1     0     0     0     0     0  \n",
       "2     0     1     0     0     0  \n",
       "3     0     0     0     0     0  \n",
       "4     0     0     0     0     0  \n",
       "\n",
       "[5 rows x 378 columns]"
      ]
     },
     "execution_count": 3,
     "metadata": {},
     "output_type": "execute_result"
    }
   ],
   "source": [
    "df_train.head()"
   ]
  },
  {
   "cell_type": "code",
   "execution_count": 4,
   "metadata": {},
   "outputs": [
    {
     "data": {
      "text/plain": [
       "(4209, 378)"
      ]
     },
     "execution_count": 4,
     "metadata": {},
     "output_type": "execute_result"
    }
   ],
   "source": [
    "df_train.shape"
   ]
  },
  {
   "cell_type": "code",
   "execution_count": 5,
   "metadata": {},
   "outputs": [],
   "source": [
    "df_test = pd.read_csv(\"C:/Users/oekpom/Desktop/Datasets/Machine Learning/Dataset for the project - mercedes/test.csv\")"
   ]
  },
  {
   "cell_type": "code",
   "execution_count": 6,
   "metadata": {},
   "outputs": [
    {
     "data": {
      "text/plain": [
       "(4209, 377)"
      ]
     },
     "execution_count": 6,
     "metadata": {},
     "output_type": "execute_result"
    }
   ],
   "source": [
    "df_test.shape"
   ]
  },
  {
   "cell_type": "code",
   "execution_count": 7,
   "metadata": {},
   "outputs": [
    {
     "data": {
      "text/html": [
       "<div>\n",
       "<style scoped>\n",
       "    .dataframe tbody tr th:only-of-type {\n",
       "        vertical-align: middle;\n",
       "    }\n",
       "\n",
       "    .dataframe tbody tr th {\n",
       "        vertical-align: top;\n",
       "    }\n",
       "\n",
       "    .dataframe thead th {\n",
       "        text-align: right;\n",
       "    }\n",
       "</style>\n",
       "<table border=\"1\" class=\"dataframe\">\n",
       "  <thead>\n",
       "    <tr style=\"text-align: right;\">\n",
       "      <th></th>\n",
       "      <th>ID</th>\n",
       "      <th>X0</th>\n",
       "      <th>X1</th>\n",
       "      <th>X2</th>\n",
       "      <th>X3</th>\n",
       "      <th>X4</th>\n",
       "      <th>X5</th>\n",
       "      <th>X6</th>\n",
       "      <th>X8</th>\n",
       "      <th>X10</th>\n",
       "      <th>...</th>\n",
       "      <th>X375</th>\n",
       "      <th>X376</th>\n",
       "      <th>X377</th>\n",
       "      <th>X378</th>\n",
       "      <th>X379</th>\n",
       "      <th>X380</th>\n",
       "      <th>X382</th>\n",
       "      <th>X383</th>\n",
       "      <th>X384</th>\n",
       "      <th>X385</th>\n",
       "    </tr>\n",
       "  </thead>\n",
       "  <tbody>\n",
       "    <tr>\n",
       "      <th>0</th>\n",
       "      <td>1</td>\n",
       "      <td>az</td>\n",
       "      <td>v</td>\n",
       "      <td>n</td>\n",
       "      <td>f</td>\n",
       "      <td>d</td>\n",
       "      <td>t</td>\n",
       "      <td>a</td>\n",
       "      <td>w</td>\n",
       "      <td>0</td>\n",
       "      <td>...</td>\n",
       "      <td>0</td>\n",
       "      <td>0</td>\n",
       "      <td>0</td>\n",
       "      <td>1</td>\n",
       "      <td>0</td>\n",
       "      <td>0</td>\n",
       "      <td>0</td>\n",
       "      <td>0</td>\n",
       "      <td>0</td>\n",
       "      <td>0</td>\n",
       "    </tr>\n",
       "    <tr>\n",
       "      <th>1</th>\n",
       "      <td>2</td>\n",
       "      <td>t</td>\n",
       "      <td>b</td>\n",
       "      <td>ai</td>\n",
       "      <td>a</td>\n",
       "      <td>d</td>\n",
       "      <td>b</td>\n",
       "      <td>g</td>\n",
       "      <td>y</td>\n",
       "      <td>0</td>\n",
       "      <td>...</td>\n",
       "      <td>0</td>\n",
       "      <td>0</td>\n",
       "      <td>1</td>\n",
       "      <td>0</td>\n",
       "      <td>0</td>\n",
       "      <td>0</td>\n",
       "      <td>0</td>\n",
       "      <td>0</td>\n",
       "      <td>0</td>\n",
       "      <td>0</td>\n",
       "    </tr>\n",
       "    <tr>\n",
       "      <th>2</th>\n",
       "      <td>3</td>\n",
       "      <td>az</td>\n",
       "      <td>v</td>\n",
       "      <td>as</td>\n",
       "      <td>f</td>\n",
       "      <td>d</td>\n",
       "      <td>a</td>\n",
       "      <td>j</td>\n",
       "      <td>j</td>\n",
       "      <td>0</td>\n",
       "      <td>...</td>\n",
       "      <td>0</td>\n",
       "      <td>0</td>\n",
       "      <td>0</td>\n",
       "      <td>1</td>\n",
       "      <td>0</td>\n",
       "      <td>0</td>\n",
       "      <td>0</td>\n",
       "      <td>0</td>\n",
       "      <td>0</td>\n",
       "      <td>0</td>\n",
       "    </tr>\n",
       "    <tr>\n",
       "      <th>3</th>\n",
       "      <td>4</td>\n",
       "      <td>az</td>\n",
       "      <td>l</td>\n",
       "      <td>n</td>\n",
       "      <td>f</td>\n",
       "      <td>d</td>\n",
       "      <td>z</td>\n",
       "      <td>l</td>\n",
       "      <td>n</td>\n",
       "      <td>0</td>\n",
       "      <td>...</td>\n",
       "      <td>0</td>\n",
       "      <td>0</td>\n",
       "      <td>0</td>\n",
       "      <td>1</td>\n",
       "      <td>0</td>\n",
       "      <td>0</td>\n",
       "      <td>0</td>\n",
       "      <td>0</td>\n",
       "      <td>0</td>\n",
       "      <td>0</td>\n",
       "    </tr>\n",
       "    <tr>\n",
       "      <th>4</th>\n",
       "      <td>5</td>\n",
       "      <td>w</td>\n",
       "      <td>s</td>\n",
       "      <td>as</td>\n",
       "      <td>c</td>\n",
       "      <td>d</td>\n",
       "      <td>y</td>\n",
       "      <td>i</td>\n",
       "      <td>m</td>\n",
       "      <td>0</td>\n",
       "      <td>...</td>\n",
       "      <td>1</td>\n",
       "      <td>0</td>\n",
       "      <td>0</td>\n",
       "      <td>0</td>\n",
       "      <td>0</td>\n",
       "      <td>0</td>\n",
       "      <td>0</td>\n",
       "      <td>0</td>\n",
       "      <td>0</td>\n",
       "      <td>0</td>\n",
       "    </tr>\n",
       "  </tbody>\n",
       "</table>\n",
       "<p>5 rows × 377 columns</p>\n",
       "</div>"
      ],
      "text/plain": [
       "   ID  X0 X1  X2 X3 X4 X5 X6 X8  X10  ...  X375  X376  X377  X378  X379  X380  \\\n",
       "0   1  az  v   n  f  d  t  a  w    0  ...     0     0     0     1     0     0   \n",
       "1   2   t  b  ai  a  d  b  g  y    0  ...     0     0     1     0     0     0   \n",
       "2   3  az  v  as  f  d  a  j  j    0  ...     0     0     0     1     0     0   \n",
       "3   4  az  l   n  f  d  z  l  n    0  ...     0     0     0     1     0     0   \n",
       "4   5   w  s  as  c  d  y  i  m    0  ...     1     0     0     0     0     0   \n",
       "\n",
       "   X382  X383  X384  X385  \n",
       "0     0     0     0     0  \n",
       "1     0     0     0     0  \n",
       "2     0     0     0     0  \n",
       "3     0     0     0     0  \n",
       "4     0     0     0     0  \n",
       "\n",
       "[5 rows x 377 columns]"
      ]
     },
     "execution_count": 7,
     "metadata": {},
     "output_type": "execute_result"
    }
   ],
   "source": [
    "df_test.head()"
   ]
  },
  {
   "cell_type": "code",
   "execution_count": 8,
   "metadata": {},
   "outputs": [],
   "source": [
    "var_list = df_train.var()"
   ]
  },
  {
   "cell_type": "code",
   "execution_count": 9,
   "metadata": {},
   "outputs": [
    {
     "name": "stdout",
     "output_type": "stream",
     "text": [
      "ID      5.941936e+06\n",
      "y       1.607667e+02\n",
      "X10     1.313092e-02\n",
      "X11     0.000000e+00\n",
      "X12     6.945713e-02\n",
      "X13     5.462335e-02\n",
      "X14     2.448929e-01\n",
      "X15     4.750593e-04\n",
      "X16     2.607237e-03\n",
      "X17     7.546747e-03\n",
      "X18     7.780720e-03\n",
      "X19     8.965997e-02\n",
      "X20     1.224296e-01\n",
      "X21     2.607237e-03\n",
      "X22     7.941395e-02\n",
      "X23     2.024755e-02\n",
      "X24     1.897527e-03\n",
      "X26     4.965595e-03\n",
      "X27     2.167142e-01\n",
      "X28     3.149733e-02\n",
      "X29     4.116360e-02\n",
      "X30     4.494827e-03\n",
      "X31     1.784108e-01\n",
      "X32     1.104448e-02\n",
      "X33     2.375861e-04\n",
      "X34     5.435912e-03\n",
      "X35     1.784108e-01\n",
      "X36     4.494827e-03\n",
      "X37     1.784108e-01\n",
      "X38     3.216333e-02\n",
      "            ...     \n",
      "X355    2.357460e-01\n",
      "X356    1.475408e-01\n",
      "X357    1.186801e-03\n",
      "X358    2.447207e-01\n",
      "X359    3.083030e-02\n",
      "X360    7.066685e-02\n",
      "X361    3.282833e-02\n",
      "X362    2.496467e-01\n",
      "X363    1.855988e-01\n",
      "X364    2.843581e-03\n",
      "X365    2.843581e-03\n",
      "X366    1.186801e-03\n",
      "X367    4.912285e-02\n",
      "X368    5.880257e-02\n",
      "X369    4.750593e-04\n",
      "X370    6.609727e-03\n",
      "X371    1.405530e-02\n",
      "X372    4.750593e-04\n",
      "X373    1.887861e-02\n",
      "X374    1.757146e-01\n",
      "X375    2.172329e-01\n",
      "X376    5.399258e-02\n",
      "X377    2.157528e-01\n",
      "X378    2.024755e-02\n",
      "X379    9.415366e-03\n",
      "X380    8.014579e-03\n",
      "X382    7.546747e-03\n",
      "X383    1.660732e-03\n",
      "X384    4.750593e-04\n",
      "X385    1.423823e-03\n",
      "Length: 370, dtype: float64\n"
     ]
    }
   ],
   "source": [
    "print(var_list)"
   ]
  },
  {
   "cell_type": "code",
   "execution_count": 10,
   "metadata": {},
   "outputs": [
    {
     "data": {
      "text/plain": [
       "X11     0.0\n",
       "X93     0.0\n",
       "X107    0.0\n",
       "X233    0.0\n",
       "X235    0.0\n",
       "X268    0.0\n",
       "X289    0.0\n",
       "X290    0.0\n",
       "X293    0.0\n",
       "X297    0.0\n",
       "X330    0.0\n",
       "X347    0.0\n",
       "dtype: float64"
      ]
     },
     "execution_count": 10,
     "metadata": {},
     "output_type": "execute_result"
    }
   ],
   "source": [
    "var_list[var_list == 0]"
   ]
  },
  {
   "cell_type": "code",
   "execution_count": 11,
   "metadata": {},
   "outputs": [],
   "source": [
    "df_train = df_train.drop([\"X11\",\"X93\",\"X107\",\"X233\",\"X235\",\"X268\",\"X289\",\"X290\",\"X293\",\"X297\",\"X330\",\"X347\"], axis=1)"
   ]
  },
  {
   "cell_type": "code",
   "execution_count": 12,
   "metadata": {},
   "outputs": [],
   "source": [
    "df_test = df_test.drop([\"X11\",\"X93\",\"X107\",\"X233\",\"X235\",\"X268\",\"X289\",\"X290\",\"X293\",\"X297\",\"X330\",\"X347\"], axis=1)"
   ]
  },
  {
   "cell_type": "code",
   "execution_count": 13,
   "metadata": {},
   "outputs": [
    {
     "data": {
      "text/plain": [
       "ID      0\n",
       "y       0\n",
       "X0      0\n",
       "X1      0\n",
       "X2      0\n",
       "X3      0\n",
       "X4      0\n",
       "X5      0\n",
       "X6      0\n",
       "X8      0\n",
       "X10     0\n",
       "X12     0\n",
       "X13     0\n",
       "X14     0\n",
       "X15     0\n",
       "X16     0\n",
       "X17     0\n",
       "X18     0\n",
       "X19     0\n",
       "X20     0\n",
       "X21     0\n",
       "X22     0\n",
       "X23     0\n",
       "X24     0\n",
       "X26     0\n",
       "X27     0\n",
       "X28     0\n",
       "X29     0\n",
       "X30     0\n",
       "X31     0\n",
       "       ..\n",
       "X355    0\n",
       "X356    0\n",
       "X357    0\n",
       "X358    0\n",
       "X359    0\n",
       "X360    0\n",
       "X361    0\n",
       "X362    0\n",
       "X363    0\n",
       "X364    0\n",
       "X365    0\n",
       "X366    0\n",
       "X367    0\n",
       "X368    0\n",
       "X369    0\n",
       "X370    0\n",
       "X371    0\n",
       "X372    0\n",
       "X373    0\n",
       "X374    0\n",
       "X375    0\n",
       "X376    0\n",
       "X377    0\n",
       "X378    0\n",
       "X379    0\n",
       "X380    0\n",
       "X382    0\n",
       "X383    0\n",
       "X384    0\n",
       "X385    0\n",
       "Length: 366, dtype: int64"
      ]
     },
     "execution_count": 13,
     "metadata": {},
     "output_type": "execute_result"
    }
   ],
   "source": [
    "df_train.isnull().sum()"
   ]
  },
  {
   "cell_type": "code",
   "execution_count": 14,
   "metadata": {},
   "outputs": [
    {
     "data": {
      "text/plain": [
       "Series([], dtype: int64)"
      ]
     },
     "execution_count": 14,
     "metadata": {},
     "output_type": "execute_result"
    }
   ],
   "source": [
    "df_train.isnull().sum()[df_train.isnull().sum()>0]"
   ]
  },
  {
   "cell_type": "code",
   "execution_count": 15,
   "metadata": {},
   "outputs": [
    {
     "data": {
      "text/plain": [
       "ID      0\n",
       "X0      0\n",
       "X1      0\n",
       "X2      0\n",
       "X3      0\n",
       "X4      0\n",
       "X5      0\n",
       "X6      0\n",
       "X8      0\n",
       "X10     0\n",
       "X12     0\n",
       "X13     0\n",
       "X14     0\n",
       "X15     0\n",
       "X16     0\n",
       "X17     0\n",
       "X18     0\n",
       "X19     0\n",
       "X20     0\n",
       "X21     0\n",
       "X22     0\n",
       "X23     0\n",
       "X24     0\n",
       "X26     0\n",
       "X27     0\n",
       "X28     0\n",
       "X29     0\n",
       "X30     0\n",
       "X31     0\n",
       "X32     0\n",
       "       ..\n",
       "X355    0\n",
       "X356    0\n",
       "X357    0\n",
       "X358    0\n",
       "X359    0\n",
       "X360    0\n",
       "X361    0\n",
       "X362    0\n",
       "X363    0\n",
       "X364    0\n",
       "X365    0\n",
       "X366    0\n",
       "X367    0\n",
       "X368    0\n",
       "X369    0\n",
       "X370    0\n",
       "X371    0\n",
       "X372    0\n",
       "X373    0\n",
       "X374    0\n",
       "X375    0\n",
       "X376    0\n",
       "X377    0\n",
       "X378    0\n",
       "X379    0\n",
       "X380    0\n",
       "X382    0\n",
       "X383    0\n",
       "X384    0\n",
       "X385    0\n",
       "Length: 365, dtype: int64"
      ]
     },
     "execution_count": 15,
     "metadata": {},
     "output_type": "execute_result"
    }
   ],
   "source": [
    "df_test.isnull().sum()"
   ]
  },
  {
   "cell_type": "code",
   "execution_count": 16,
   "metadata": {},
   "outputs": [
    {
     "data": {
      "text/plain": [
       "Series([], dtype: int64)"
      ]
     },
     "execution_count": 16,
     "metadata": {},
     "output_type": "execute_result"
    }
   ],
   "source": [
    "df_test.isnull().sum()[df_test.isnull().sum()>0]"
   ]
  },
  {
   "cell_type": "code",
   "execution_count": 17,
   "metadata": {},
   "outputs": [
    {
     "name": "stdout",
     "output_type": "stream",
     "text": [
      "ID      4209\n",
      "y       2545\n",
      "X0        47\n",
      "X1        27\n",
      "X2        44\n",
      "X3         7\n",
      "X4         4\n",
      "X5        29\n",
      "X6        12\n",
      "X8        25\n",
      "X10        2\n",
      "X12        2\n",
      "X13        2\n",
      "X14        2\n",
      "X15        2\n",
      "X16        2\n",
      "X17        2\n",
      "X18        2\n",
      "X19        2\n",
      "X20        2\n",
      "X21        2\n",
      "X22        2\n",
      "X23        2\n",
      "X24        2\n",
      "X26        2\n",
      "X27        2\n",
      "X28        2\n",
      "X29        2\n",
      "X30        2\n",
      "X31        2\n",
      "        ... \n",
      "X355       2\n",
      "X356       2\n",
      "X357       2\n",
      "X358       2\n",
      "X359       2\n",
      "X360       2\n",
      "X361       2\n",
      "X362       2\n",
      "X363       2\n",
      "X364       2\n",
      "X365       2\n",
      "X366       2\n",
      "X367       2\n",
      "X368       2\n",
      "X369       2\n",
      "X370       2\n",
      "X371       2\n",
      "X372       2\n",
      "X373       2\n",
      "X374       2\n",
      "X375       2\n",
      "X376       2\n",
      "X377       2\n",
      "X378       2\n",
      "X379       2\n",
      "X380       2\n",
      "X382       2\n",
      "X383       2\n",
      "X384       2\n",
      "X385       2\n",
      "Length: 366, dtype: int64\n"
     ]
    }
   ],
   "source": [
    "uniqueValues = df_train.nunique()\n",
    "print(uniqueValues)"
   ]
  },
  {
   "cell_type": "code",
   "execution_count": 18,
   "metadata": {},
   "outputs": [
    {
     "name": "stdout",
     "output_type": "stream",
     "text": [
      "ID      4209\n",
      "X0        49\n",
      "X1        27\n",
      "X2        45\n",
      "X3         7\n",
      "X4         4\n",
      "X5        32\n",
      "X6        12\n",
      "X8        25\n",
      "X10        2\n",
      "X12        2\n",
      "X13        2\n",
      "X14        2\n",
      "X15        2\n",
      "X16        2\n",
      "X17        2\n",
      "X18        2\n",
      "X19        2\n",
      "X20        2\n",
      "X21        2\n",
      "X22        2\n",
      "X23        2\n",
      "X24        2\n",
      "X26        2\n",
      "X27        2\n",
      "X28        2\n",
      "X29        2\n",
      "X30        2\n",
      "X31        2\n",
      "X32        2\n",
      "        ... \n",
      "X355       2\n",
      "X356       2\n",
      "X357       2\n",
      "X358       2\n",
      "X359       2\n",
      "X360       2\n",
      "X361       2\n",
      "X362       2\n",
      "X363       2\n",
      "X364       2\n",
      "X365       2\n",
      "X366       2\n",
      "X367       2\n",
      "X368       2\n",
      "X369       1\n",
      "X370       2\n",
      "X371       2\n",
      "X372       2\n",
      "X373       2\n",
      "X374       2\n",
      "X375       2\n",
      "X376       2\n",
      "X377       2\n",
      "X378       2\n",
      "X379       2\n",
      "X380       2\n",
      "X382       2\n",
      "X383       2\n",
      "X384       2\n",
      "X385       2\n",
      "Length: 365, dtype: int64\n"
     ]
    }
   ],
   "source": [
    "uniqueValues = df_test.nunique()\n",
    "print(uniqueValues)"
   ]
  },
  {
   "cell_type": "code",
   "execution_count": 19,
   "metadata": {},
   "outputs": [
    {
     "data": {
      "text/plain": [
       "X0    object\n",
       "X1    object\n",
       "X2    object\n",
       "X3    object\n",
       "X4    object\n",
       "X5    object\n",
       "X6    object\n",
       "X8    object\n",
       "dtype: object"
      ]
     },
     "execution_count": 19,
     "metadata": {},
     "output_type": "execute_result"
    }
   ],
   "source": [
    "df_train.dtypes[df_train.dtypes==object]"
   ]
  },
  {
   "cell_type": "code",
   "execution_count": 20,
   "metadata": {},
   "outputs": [
    {
     "data": {
      "text/plain": [
       "X0    object\n",
       "X1    object\n",
       "X2    object\n",
       "X3    object\n",
       "X4    object\n",
       "X5    object\n",
       "X6    object\n",
       "X8    object\n",
       "dtype: object"
      ]
     },
     "execution_count": 20,
     "metadata": {},
     "output_type": "execute_result"
    }
   ],
   "source": [
    "df_test.dtypes[df_test.dtypes==object]"
   ]
  },
  {
   "cell_type": "code",
   "execution_count": 21,
   "metadata": {},
   "outputs": [],
   "source": [
    "from sklearn.preprocessing import LabelEncoder"
   ]
  },
  {
   "cell_type": "code",
   "execution_count": 22,
   "metadata": {},
   "outputs": [],
   "source": [
    "X0 = df_train[\"X0\"]\n",
    "X1 = df_train[\"X1\"]\n",
    "X2 = df_train[\"X2\"]\n",
    "X3 = df_train[\"X3\"]\n",
    "X4 = df_train[\"X4\"]\n",
    "X5 = df_train[\"X5\"]\n",
    "X6 = df_train[\"X6\"]\n",
    "X8 = df_train[\"X8\"]\n",
    "\n",
    "le = LabelEncoder()\n",
    "df_train[\"X0\"] = le.fit_transform(X0)\n",
    "df_train[\"X1\"] = le.fit_transform(X1)\n",
    "df_train[\"X2\"] = le.fit_transform(X2)\n",
    "df_train[\"X3\"] = le.fit_transform(X3)\n",
    "df_train[\"X4\"] = le.fit_transform(X4)\n",
    "df_train[\"X5\"] = le.fit_transform(X5)\n",
    "df_train[\"X6\"] = le.fit_transform(X6)\n",
    "df_train[\"X8\"] = le.fit_transform(X8)"
   ]
  },
  {
   "cell_type": "code",
   "execution_count": 23,
   "metadata": {},
   "outputs": [],
   "source": [
    "X0 = df_test[\"X0\"]\n",
    "X1 = df_test[\"X1\"]\n",
    "X2 = df_test[\"X2\"]\n",
    "X3 = df_test[\"X3\"]\n",
    "X4 = df_test[\"X4\"]\n",
    "X5 = df_test[\"X5\"]\n",
    "X6 = df_test[\"X6\"]\n",
    "X8 = df_test[\"X8\"]\n",
    "\n",
    "le2 = LabelEncoder()\n",
    "df_test[\"X0\"] = le2.fit_transform(X0)\n",
    "df_test[\"X1\"] = le2.fit_transform(X1)\n",
    "df_test[\"X2\"] = le2.fit_transform(X2)\n",
    "df_test[\"X3\"] = le2.fit_transform(X3)\n",
    "df_test[\"X4\"] = le2.fit_transform(X4)\n",
    "df_test[\"X5\"] = le2.fit_transform(X5)\n",
    "df_test[\"X6\"] = le2.fit_transform(X6)\n",
    "df_test[\"X8\"] = le2.fit_transform(X8)"
   ]
  },
  {
   "cell_type": "code",
   "execution_count": 24,
   "metadata": {},
   "outputs": [],
   "source": [
    "y_train = df_train[\"y\"]\n",
    "x_train = df_train.drop(\"y\", axis=1)"
   ]
  },
  {
   "cell_type": "code",
   "execution_count": 25,
   "metadata": {},
   "outputs": [],
   "source": [
    "from sklearn.decomposition import PCA"
   ]
  },
  {
   "cell_type": "code",
   "execution_count": 26,
   "metadata": {},
   "outputs": [],
   "source": [
    "sklearn_pca = PCA(n_components=0.95)"
   ]
  },
  {
   "cell_type": "code",
   "execution_count": 27,
   "metadata": {},
   "outputs": [
    {
     "data": {
      "text/plain": [
       "PCA(copy=True, iterated_power='auto', n_components=0.95, random_state=None,\n",
       "    svd_solver='auto', tol=0.0, whiten=False)"
      ]
     },
     "execution_count": 27,
     "metadata": {},
     "output_type": "execute_result"
    }
   ],
   "source": [
    "sklearn_pca.fit(x_train)\n",
    "sklearn_pca.fit(df_test)"
   ]
  },
  {
   "cell_type": "code",
   "execution_count": 28,
   "metadata": {},
   "outputs": [],
   "source": [
    "x_train_transformed = sklearn_pca.transform(x_train)\n",
    "df_test_transformed = sklearn_pca.transform(df_test)"
   ]
  },
  {
   "cell_type": "code",
   "execution_count": 29,
   "metadata": {},
   "outputs": [
    {
     "name": "stdout",
     "output_type": "stream",
     "text": [
      "(4209, 1)\n",
      "(4209, 1)\n"
     ]
    }
   ],
   "source": [
    "print(x_train_transformed.shape)\n",
    "print(df_test_transformed.shape)"
   ]
  },
  {
   "cell_type": "code",
   "execution_count": 30,
   "metadata": {},
   "outputs": [],
   "source": [
    "from sklearn.linear_model import LinearRegression"
   ]
  },
  {
   "cell_type": "code",
   "execution_count": 31,
   "metadata": {},
   "outputs": [
    {
     "data": {
      "text/plain": [
       "LinearRegression(copy_X=True, fit_intercept=True, n_jobs=None, normalize=False)"
      ]
     },
     "execution_count": 31,
     "metadata": {},
     "output_type": "execute_result"
    }
   ],
   "source": [
    "lm = LinearRegression()\n",
    "lm.fit(x_train_transformed,y_train)"
   ]
  },
  {
   "cell_type": "code",
   "execution_count": 32,
   "metadata": {},
   "outputs": [
    {
     "name": "stdout",
     "output_type": "stream",
     "text": [
      "100.66786134149162\n",
      "[0.00028665]\n"
     ]
    }
   ],
   "source": [
    "print(lm.intercept_)\n",
    "print(lm.coef_)"
   ]
  },
  {
   "cell_type": "code",
   "execution_count": 33,
   "metadata": {},
   "outputs": [
    {
     "name": "stdout",
     "output_type": "stream",
     "text": [
      "[101.87463906 101.87436541 101.87408265 ...  99.46339941  99.46311205\n",
      "  99.46254135]\n"
     ]
    }
   ],
   "source": [
    "predictions = lm.predict(df_test_transformed)\n",
    "print(predictions)"
   ]
  },
  {
   "cell_type": "code",
   "execution_count": null,
   "metadata": {},
   "outputs": [],
   "source": [
    "from xgboost import XGBClassifier\n",
    "\n",
    "xgb = XGBClassifier(n_estimators=30, random_state=7)\n",
    "xgb.fit(x_train_transformed,y_train)\n",
    "predictions = xgb.predict(df_test_transformed)\n",
    "print(predictions)"
   ]
  }
 ],
 "metadata": {
  "kernelspec": {
   "display_name": "Python 3",
   "language": "python",
   "name": "python3"
  },
  "language_info": {
   "codemirror_mode": {
    "name": "ipython",
    "version": 3
   },
   "file_extension": ".py",
   "mimetype": "text/x-python",
   "name": "python",
   "nbconvert_exporter": "python",
   "pygments_lexer": "ipython3",
   "version": "3.6.5"
  }
 },
 "nbformat": 4,
 "nbformat_minor": 2
}
