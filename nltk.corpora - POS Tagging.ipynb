{
 "cells": [
  {
   "cell_type": "code",
   "execution_count": 1,
   "metadata": {},
   "outputs": [],
   "source": [
    "import nltk\n",
    "from nltk.corpus import stopwords"
   ]
  },
  {
   "cell_type": "code",
   "execution_count": 2,
   "metadata": {},
   "outputs": [
    {
     "name": "stdout",
     "output_type": "stream",
     "text": [
      "{'his', 'no', \"hasn't\", 'weren', 'and', 'same', 'again', 'a', \"haven't\", 'where', 'why', 'my', 'have', 'only', 'you', 'any', 'should', 'needn', 'isn', \"isn't\", 'hasn', \"won't\", 'it', 'herself', 'its', 'in', 'below', 'more', 'about', 'all', 'who', 'having', 'there', 'we', 'wouldn', 'on', 'o', 'under', 'd', 'yourself', 'once', 'but', 'that', 'not', 'before', 'their', 'haven', 'over', 'nor', 'doesn', 'ours', 'll', 'most', 'when', 'while', 'very', \"wouldn't\", 'mustn', \"mustn't\", 'up', 'yourselves', 'theirs', 'just', 'ma', 'i', 'your', 'am', 'being', \"shouldn't\", 'both', 'be', 'during', \"that'll\", 'has', 'few', 'through', 'couldn', 'myself', 'an', 'because', 's', 'm', 'our', 'own', \"you'll\", 'if', 'or', 'after', 'too', 'don', 'these', 'are', 'then', 'what', 'do', 'such', 'than', 'themselves', 'was', 'can', \"mightn't\", 'wasn', 'itself', 'with', 'this', \"don't\", 'which', 'into', 'whom', 'from', 'how', 'her', 'ourselves', 'of', 'each', 'off', 'didn', 'above', 'yours', 'at', \"weren't\", 've', 'against', 'were', 'until', 'he', 'me', 'does', 'did', 'as', 'to', 'aren', 'them', \"she's\", 're', \"it's\", 'now', 'some', 't', 'y', 'had', 'further', \"shan't\", 'shouldn', 'here', \"hadn't\", \"you've\", 'hadn', 'shan', 'doing', \"couldn't\", 'between', 'those', 'out', \"you're\", \"doesn't\", 'won', 'they', 'is', 'hers', 'himself', \"aren't\", 'so', 'by', 'for', \"should've\", \"wasn't\", 'ain', \"needn't\", \"didn't\", 'down', \"you'd\", 'will', 'she', 'him', 'been', 'the', 'mightn', 'other'}\n"
     ]
    }
   ],
   "source": [
    "stop_words = set(stopwords.words('english'))\n",
    "print(stop_words)"
   ]
  },
  {
   "cell_type": "code",
   "execution_count": 3,
   "metadata": {},
   "outputs": [],
   "source": [
    "from nltk.tokenize import sent_tokenize, word_tokenize\n",
    "\n",
    "txt = '''Text mining also referred to as data mining, \n",
    "roughly equivalent to text analytics, is the process of deriving high-quality information from text. \n",
    "High-quality information is typically derived through the devising of patterns and trends through \n",
    "means such as statistical pattern learning'''\n",
    "\n",
    "tokenized = sent_tokenize(txt)"
   ]
  },
  {
   "cell_type": "code",
   "execution_count": 4,
   "metadata": {},
   "outputs": [
    {
     "name": "stdout",
     "output_type": "stream",
     "text": [
      "[('Text', 'NN'), ('mining', 'NN'), ('also', 'RB'), ('referred', 'VBD'), ('data', 'NNS'), ('mining', 'NN'), (',', ','), ('roughly', 'RB'), ('equivalent', 'JJ'), ('text', 'NN'), ('analytics', 'NNS'), (',', ','), ('process', 'NN'), ('deriving', 'VBG'), ('high-quality', 'NN'), ('information', 'NN'), ('text', 'NN'), ('.', '.')]\n",
      "[('High-quality', 'NNP'), ('information', 'NN'), ('typically', 'RB'), ('derived', 'VBD'), ('devising', 'VBG'), ('patterns', 'NNS'), ('trends', 'NNS'), ('means', 'VBZ'), ('statistical', 'JJ'), ('pattern', 'NN'), ('learning', 'VBG')]\n"
     ]
    }
   ],
   "source": [
    "for i in tokenized:\n",
    "    wordslist = word_tokenize(i)\n",
    "    wordslist = [w for w in wordslist if not w in stop_words]\n",
    "    tagged = nltk.pos_tag(wordslist)\n",
    "    \n",
    "    print(tagged)"
   ]
  },
  {
   "cell_type": "code",
   "execution_count": null,
   "metadata": {},
   "outputs": [],
   "source": []
  }
 ],
 "metadata": {
  "kernelspec": {
   "display_name": "Python 3",
   "language": "python",
   "name": "python3"
  },
  "language_info": {
   "codemirror_mode": {
    "name": "ipython",
    "version": 3
   },
   "file_extension": ".py",
   "mimetype": "text/x-python",
   "name": "python",
   "nbconvert_exporter": "python",
   "pygments_lexer": "ipython3",
   "version": "3.6.5"
  }
 },
 "nbformat": 4,
 "nbformat_minor": 2
}
