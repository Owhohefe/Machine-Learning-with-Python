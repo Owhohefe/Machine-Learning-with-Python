{
 "cells": [
  {
   "cell_type": "code",
   "execution_count": 1,
   "metadata": {},
   "outputs": [],
   "source": [
    "import sklearn\n",
    "from sklearn.datasets import load_iris"
   ]
  },
  {
   "cell_type": "code",
   "execution_count": 2,
   "metadata": {},
   "outputs": [],
   "source": [
    "data = load_iris()"
   ]
  },
  {
   "cell_type": "code",
   "execution_count": 3,
   "metadata": {},
   "outputs": [],
   "source": [
    "data_input = data.data\n",
    "data_output = data.target"
   ]
  },
  {
   "cell_type": "code",
   "execution_count": 4,
   "metadata": {},
   "outputs": [],
   "source": [
    "from sklearn.model_selection import KFold\n",
    "kf = KFold(n_splits=5,shuffle=True)"
   ]
  },
  {
   "cell_type": "code",
   "execution_count": 6,
   "metadata": {},
   "outputs": [
    {
     "name": "stdout",
     "output_type": "stream",
     "text": [
      "Train_set         Test_set       \n",
      "[  0   1   2   3   4   5   6   7  10  11  13  14  15  16  17  19  20  21\n",
      "  22  23  24  25  26  27  28  29  31  32  33  34  35  36  37  38  39  40\n",
      "  41  42  43  45  46  48  49  50  51  52  53  57  58  59  60  61  62  63\n",
      "  64  66  70  72  73  76  78  79  81  82  84  86  88  89  90  91  92  93\n",
      "  94  95  96  97  98  99 100 101 102 103 104 105 106 107 108 109 110 111\n",
      " 112 113 114 115 116 117 119 120 121 122 124 125 126 127 128 130 131 132\n",
      " 135 136 137 138 139 140 143 144 146 147 148 149] [  8   9  12  18  30  44  47  54  55  56  65  67  68  69  71  74  75  77\n",
      "  80  83  85  87 118 123 129 133 134 141 142 145]\n",
      "[  0   1   2   3   7   8   9  10  11  12  13  14  16  17  18  19  20  21\n",
      "  22  23  24  25  27  28  29  30  31  32  33  34  35  36  37  38  39  43\n",
      "  44  45  47  49  50  51  52  53  54  55  56  57  60  61  62  63  64  65\n",
      "  66  67  68  69  71  73  74  75  76  77  78  79  80  81  82  83  84  85\n",
      "  86  87  88  91  94  96  97  98  99 100 101 102 103 104 108 110 111 112\n",
      " 114 115 117 118 120 121 122 123 124 125 127 128 129 132 133 134 135 136\n",
      " 137 138 139 140 141 142 143 145 146 147 148 149] [  4   5   6  15  26  40  41  42  46  48  58  59  70  72  89  90  92  93\n",
      "  95 105 106 107 109 113 116 119 126 130 131 144]\n",
      "[  0   1   2   3   4   5   6   7   8   9  10  11  12  13  14  15  17  18\n",
      "  19  21  22  25  26  28  30  33  34  35  40  41  42  43  44  45  46  47\n",
      "  48  49  51  52  53  54  55  56  58  59  60  61  62  63  65  67  68  69\n",
      "  70  71  72  73  74  75  76  77  78  79  80  81  83  85  86  87  88  89\n",
      "  90  91  92  93  94  95  96  97  98 100 101 104 105 106 107 108 109 110\n",
      " 112 113 115 116 118 119 121 123 124 125 126 129 130 131 132 133 134 135\n",
      " 137 138 139 140 141 142 143 144 145 146 147 148] [ 16  20  23  24  27  29  31  32  36  37  38  39  50  57  64  66  82  84\n",
      "  99 102 103 111 114 117 120 122 127 128 136 149]\n",
      "[  0   4   5   6   8   9  12  13  14  15  16  17  18  20  22  23  24  25\n",
      "  26  27  29  30  31  32  33  35  36  37  38  39  40  41  42  44  45  46\n",
      "  47  48  50  51  52  54  55  56  57  58  59  60  63  64  65  66  67  68\n",
      "  69  70  71  72  73  74  75  77  78  79  80  81  82  83  84  85  87  88\n",
      "  89  90  91  92  93  95  99 101 102 103 105 106 107 109 111 112 113 114\n",
      " 116 117 118 119 120 122 123 124 125 126 127 128 129 130 131 132 133 134\n",
      " 135 136 137 139 141 142 143 144 145 146 148 149] [  1   2   3   7  10  11  19  21  28  34  43  49  53  61  62  76  86  94\n",
      "  96  97  98 100 104 108 110 115 121 138 140 147]\n",
      "[  1   2   3   4   5   6   7   8   9  10  11  12  15  16  18  19  20  21\n",
      "  23  24  26  27  28  29  30  31  32  34  36  37  38  39  40  41  42  43\n",
      "  44  46  47  48  49  50  53  54  55  56  57  58  59  61  62  64  65  66\n",
      "  67  68  69  70  71  72  74  75  76  77  80  82  83  84  85  86  87  89\n",
      "  90  92  93  94  95  96  97  98  99 100 102 103 104 105 106 107 108 109\n",
      " 110 111 113 114 115 116 117 118 119 120 121 122 123 126 127 128 129 130\n",
      " 131 133 134 136 138 140 141 142 144 145 147 149] [  0  13  14  17  22  25  33  35  45  51  52  60  63  73  78  79  81  88\n",
      "  91 101 112 124 125 132 135 137 139 143 146 148]\n"
     ]
    }
   ],
   "source": [
    "print(\"Train_set         Test_set       \" )\n",
    "for train_set, test_set in kf.split(data_input):\n",
    "    print(train_set,test_set)"
   ]
  },
  {
   "cell_type": "code",
   "execution_count": 7,
   "metadata": {},
   "outputs": [],
   "source": [
    "from sklearn.ensemble import RandomForestClassifier\n",
    "rf_class = RandomForestClassifier(n_estimators=10)"
   ]
  },
  {
   "cell_type": "code",
   "execution_count": 8,
   "metadata": {},
   "outputs": [
    {
     "name": "stdout",
     "output_type": "stream",
     "text": [
      "[1.         0.93333333 1.         0.93333333 0.93333333 0.86666667\n",
      " 0.86666667 0.93333333 1.         1.        ]\n"
     ]
    }
   ],
   "source": [
    "from sklearn.model_selection import cross_val_score\n",
    "print(cross_val_score(rf_class,data_input,data_output,scoring='accuracy',cv=10))"
   ]
  },
  {
   "cell_type": "code",
   "execution_count": 9,
   "metadata": {},
   "outputs": [
    {
     "name": "stdout",
     "output_type": "stream",
     "text": [
      "94.0\n"
     ]
    }
   ],
   "source": [
    "accuracy = cross_val_score(rf_class,data_input,data_output,scoring='accuracy',cv=10).mean()*100\n",
    "print(accuracy)"
   ]
  },
  {
   "cell_type": "code",
   "execution_count": null,
   "metadata": {},
   "outputs": [],
   "source": []
  }
 ],
 "metadata": {
  "kernelspec": {
   "display_name": "Python 3",
   "language": "python",
   "name": "python3"
  },
  "language_info": {
   "codemirror_mode": {
    "name": "ipython",
    "version": 3
   },
   "file_extension": ".py",
   "mimetype": "text/x-python",
   "name": "python",
   "nbconvert_exporter": "python",
   "pygments_lexer": "ipython3",
   "version": "3.6.5"
  }
 },
 "nbformat": 4,
 "nbformat_minor": 2
}
